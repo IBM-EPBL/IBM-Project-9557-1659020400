{
  "cells": [
    {
      "cell_type": "markdown",
      "id": "44673c47",
      "metadata": {
        "id": "44673c47"
      },
      "source": [
        "## Team ID : PNT2022TMID21957\n",
        "## Project Title : A Gesture-based Tool for Sterile Browsing of Radiology Images."
      ]
    },
    {
      "cell_type": "markdown",
      "id": "e0d9e238",
      "metadata": {
        "id": "e0d9e238"
      },
      "source": [
        "# Model Training"
      ]
    },
    {
      "cell_type": "markdown",
      "id": "671807f4",
      "metadata": {
        "id": "671807f4"
      },
      "source": [
        "### Importing packages"
      ]
    },
    {
      "cell_type": "code",
      "execution_count": null,
      "id": "c4397ea5",
      "metadata": {
        "id": "c4397ea5"
      },
      "outputs": [],
      "source": [
        "import numpy as np\n",
        "import tensorflow\n",
        "from tensorflow.keras.models import Sequential\n",
        "from tensorflow.keras import layers\n",
        "from tensorflow.keras.layers import Dense,Flatten, Dropout\n",
        "from tensorflow.keras.layers import Conv2D,MaxPooling2D\n",
        "from keras.preprocessing.image import ImageDataGenerator"
      ]
    },
    {
      "cell_type": "markdown",
      "id": "fdf8600e",
      "metadata": {
        "id": "fdf8600e"
      },
      "source": [
        "### Image Data Argumentation"
      ]
    },
    {
      "cell_type": "code",
      "execution_count": null,
      "id": "157a18e0",
      "metadata": {
        "id": "157a18e0"
      },
      "outputs": [],
      "source": [
        "train_datagen = ImageDataGenerator(rescale=1./255, shear_range=0.2, zoom_range=0.2, horizontal_flip=True)\n",
        "test_datagen = ImageDataGenerator(rescale=1./255)"
      ]
    },
    {
      "cell_type": "markdown",
      "id": "00638670",
      "metadata": {
        "id": "00638670"
      },
      "source": [
        "### Loading Our Data And Perform Data Argumentation"
      ]
    },
    {
      "cell_type": "code",
      "execution_count": null,
      "id": "b9ef660f",
      "metadata": {
        "id": "b9ef660f",
        "outputId": "8e4aa4d2-ad87-474a-8566-845a8b538157"
      },
      "outputs": [
        {
          "name": "stdout",
          "output_type": "stream",
          "text": [
            "Found 594 images belonging to 6 classes.\n",
            "Found 30 images belonging to 6 classes.\n"
          ]
        }
      ],
      "source": [
        "x_train = train_datagen.flow_from_directory(r'D:\\IBM Project\\Dataset\\train', target_size=(64, 64), batch_size=3, color_mode='grayscale', class_mode='categorical')\n",
        "x_test = test_datagen.flow_from_directory(r'D:\\IBM Project\\Dataset\\test', target_size=(64, 64), batch_size=3, color_mode='grayscale', class_mode='categorical')"
      ]
    },
    {
      "cell_type": "code",
      "execution_count": null,
      "id": "c2412da5",
      "metadata": {
        "id": "c2412da5",
        "outputId": "f1fff413-a6da-4718-fb81-52b0a83cfefb"
      },
      "outputs": [
        {
          "name": "stdout",
          "output_type": "stream",
          "text": [
            "{'0': 0, '1': 1, '2': 2, '3': 3, '4': 4, '5': 5}\n"
          ]
        }
      ],
      "source": [
        "print(x_train.class_indices)"
      ]
    },
    {
      "cell_type": "markdown",
      "id": "94ee866b",
      "metadata": {
        "id": "94ee866b"
      },
      "source": [
        "### Initializing The Model"
      ]
    },
    {
      "cell_type": "code",
      "execution_count": null,
      "id": "a14c8b36",
      "metadata": {
        "id": "a14c8b36"
      },
      "outputs": [],
      "source": [
        "model=Sequential()"
      ]
    },
    {
      "cell_type": "markdown",
      "id": "d78733c9",
      "metadata": {
        "id": "d78733c9"
      },
      "source": [
        "### Adding CNN Layers"
      ]
    },
    {
      "cell_type": "code",
      "execution_count": null,
      "id": "b7b23570",
      "metadata": {
        "id": "b7b23570"
      },
      "outputs": [],
      "source": [
        "model.add(Conv2D(32, (3, 3), input_shape=(64, 64, 1), activation='relu'))\n",
        "model.add(MaxPooling2D(pool_size=(2, 2)))"
      ]
    },
    {
      "cell_type": "code",
      "execution_count": null,
      "id": "4c3f890b",
      "metadata": {
        "id": "4c3f890b"
      },
      "outputs": [],
      "source": [
        "model.add(Conv2D(32, (3, 3), activation='relu'))\n",
        "model.add(MaxPooling2D(pool_size=(2, 2)))"
      ]
    },
    {
      "cell_type": "code",
      "execution_count": null,
      "id": "971711f2",
      "metadata": {
        "id": "971711f2"
      },
      "outputs": [],
      "source": [
        "model.add(Flatten())"
      ]
    },
    {
      "cell_type": "markdown",
      "id": "7c14ea65",
      "metadata": {
        "id": "7c14ea65"
      },
      "source": [
        "### Adding Dense Layers"
      ]
    },
    {
      "cell_type": "code",
      "execution_count": null,
      "id": "b7445361",
      "metadata": {
        "id": "b7445361"
      },
      "outputs": [],
      "source": [
        "model.add(Dense(units=512, activation='relu'))"
      ]
    },
    {
      "cell_type": "code",
      "execution_count": null,
      "id": "ed8be700",
      "metadata": {
        "id": "ed8be700"
      },
      "outputs": [],
      "source": [
        "model.add(Dense(units=6, activation='softmax'))"
      ]
    },
    {
      "cell_type": "code",
      "execution_count": null,
      "id": "586650e2",
      "metadata": {
        "id": "586650e2",
        "outputId": "c24fa293-4f77-43df-de32-bb6517a78622"
      },
      "outputs": [
        {
          "name": "stdout",
          "output_type": "stream",
          "text": [
            "Model: \"sequential\"\n",
            "_________________________________________________________________\n",
            " Layer (type)                Output Shape              Param #   \n",
            "=================================================================\n",
            " conv2d (Conv2D)             (None, 62, 62, 32)        320       \n",
            "                                                                 \n",
            " max_pooling2d (MaxPooling2D  (None, 31, 31, 32)       0         \n",
            " )                                                               \n",
            "                                                                 \n",
            " conv2d_1 (Conv2D)           (None, 29, 29, 32)        9248      \n",
            "                                                                 \n",
            " max_pooling2d_1 (MaxPooling  (None, 14, 14, 32)       0         \n",
            " 2D)                                                             \n",
            "                                                                 \n",
            " flatten (Flatten)           (None, 6272)              0         \n",
            "                                                                 \n",
            " dense (Dense)               (None, 512)               3211776   \n",
            "                                                                 \n",
            " dense_1 (Dense)             (None, 6)                 3078      \n",
            "                                                                 \n",
            "=================================================================\n",
            "Total params: 3,224,422\n",
            "Trainable params: 3,224,422\n",
            "Non-trainable params: 0\n",
            "_________________________________________________________________\n"
          ]
        }
      ],
      "source": [
        "model.summary()"
      ]
    },
    {
      "cell_type": "markdown",
      "id": "e0f2da64",
      "metadata": {
        "id": "e0f2da64"
      },
      "source": [
        "### Configure The Learning Process"
      ]
    },
    {
      "cell_type": "code",
      "execution_count": null,
      "id": "1b51da5d",
      "metadata": {
        "id": "1b51da5d"
      },
      "outputs": [],
      "source": [
        "model.compile(optimizer='adam', loss='categorical_crossentropy', metrics=['accuracy'])"
      ]
    },
    {
      "cell_type": "markdown",
      "id": "75fbb848",
      "metadata": {
        "id": "75fbb848"
      },
      "source": [
        "### Train The Model"
      ]
    },
    {
      "cell_type": "code",
      "execution_count": null,
      "id": "9982e288",
      "metadata": {
        "id": "9982e288",
        "outputId": "808ae308-7110-4a8f-9db7-cb928fa97a25"
      },
      "outputs": [
        {
          "name": "stderr",
          "output_type": "stream",
          "text": [
            "C:\\Users\\srina\\AppData\\Local\\Temp/ipykernel_14308/1173897450.py:1: UserWarning: `Model.fit_generator` is deprecated and will be removed in a future version. Please use `Model.fit`, which supports generators.\n",
            "  model.fit_generator(x_train,\n"
          ]
        },
        {
          "name": "stdout",
          "output_type": "stream",
          "text": [
            "Epoch 1/25\n",
            "198/198 [==============================] - 28s 109ms/step - loss: 1.2608 - accuracy: 0.4899 - val_loss: 0.5794 - val_accuracy: 0.8000\n",
            "Epoch 2/25\n",
            "198/198 [==============================] - 14s 69ms/step - loss: 0.5808 - accuracy: 0.7660 - val_loss: 0.4157 - val_accuracy: 0.9000\n",
            "Epoch 3/25\n",
            "198/198 [==============================] - 14s 73ms/step - loss: 0.3788 - accuracy: 0.8754 - val_loss: 0.3431 - val_accuracy: 0.8000\n",
            "Epoch 4/25\n",
            "198/198 [==============================] - 15s 74ms/step - loss: 0.2457 - accuracy: 0.9040 - val_loss: 0.1606 - val_accuracy: 0.9667\n",
            "Epoch 5/25\n",
            "198/198 [==============================] - 14s 72ms/step - loss: 0.2123 - accuracy: 0.9125 - val_loss: 0.3265 - val_accuracy: 0.9000\n",
            "Epoch 6/25\n",
            "198/198 [==============================] - 14s 70ms/step - loss: 0.2065 - accuracy: 0.9327 - val_loss: 0.5890 - val_accuracy: 0.8667\n",
            "Epoch 7/25\n",
            "198/198 [==============================] - 13s 67ms/step - loss: 0.1438 - accuracy: 0.9478 - val_loss: 0.3200 - val_accuracy: 0.9333\n",
            "Epoch 8/25\n",
            "198/198 [==============================] - 14s 69ms/step - loss: 0.0961 - accuracy: 0.9562 - val_loss: 0.1361 - val_accuracy: 0.9000\n",
            "Epoch 9/25\n",
            "198/198 [==============================] - 13s 67ms/step - loss: 0.0807 - accuracy: 0.9680 - val_loss: 0.2772 - val_accuracy: 0.9000\n",
            "Epoch 10/25\n",
            "198/198 [==============================] - 13s 68ms/step - loss: 0.0777 - accuracy: 0.9747 - val_loss: 0.4508 - val_accuracy: 0.9000\n",
            "Epoch 11/25\n",
            "198/198 [==============================] - 14s 68ms/step - loss: 0.1077 - accuracy: 0.9562 - val_loss: 0.4763 - val_accuracy: 0.9333\n",
            "Epoch 12/25\n",
            "198/198 [==============================] - 14s 69ms/step - loss: 0.0481 - accuracy: 0.9882 - val_loss: 0.4047 - val_accuracy: 0.9667\n",
            "Epoch 13/25\n",
            "198/198 [==============================] - 14s 71ms/step - loss: 0.0146 - accuracy: 0.9949 - val_loss: 0.4116 - val_accuracy: 0.9333\n",
            "Epoch 14/25\n",
            "198/198 [==============================] - 15s 76ms/step - loss: 0.0443 - accuracy: 0.9899 - val_loss: 0.3979 - val_accuracy: 0.9667\n",
            "Epoch 15/25\n",
            "198/198 [==============================] - 14s 70ms/step - loss: 0.0577 - accuracy: 0.9764 - val_loss: 0.3092 - val_accuracy: 0.9667\n",
            "Epoch 16/25\n",
            "198/198 [==============================] - 14s 71ms/step - loss: 0.0385 - accuracy: 0.9899 - val_loss: 0.5560 - val_accuracy: 0.9333\n",
            "Epoch 17/25\n",
            "198/198 [==============================] - 15s 76ms/step - loss: 0.0170 - accuracy: 0.9949 - val_loss: 0.4920 - val_accuracy: 0.9333\n",
            "Epoch 18/25\n",
            "198/198 [==============================] - 14s 70ms/step - loss: 0.0343 - accuracy: 0.9882 - val_loss: 0.5429 - val_accuracy: 0.9333\n",
            "Epoch 19/25\n",
            "198/198 [==============================] - 14s 72ms/step - loss: 0.0171 - accuracy: 0.9983 - val_loss: 0.3303 - val_accuracy: 0.9667\n",
            "Epoch 20/25\n",
            "198/198 [==============================] - 15s 73ms/step - loss: 0.0126 - accuracy: 0.9949 - val_loss: 0.2807 - val_accuracy: 0.9333\n",
            "Epoch 21/25\n",
            "198/198 [==============================] - 14s 70ms/step - loss: 0.0509 - accuracy: 0.9865 - val_loss: 0.6154 - val_accuracy: 0.9000\n",
            "Epoch 22/25\n",
            "198/198 [==============================] - 14s 71ms/step - loss: 0.0617 - accuracy: 0.9848 - val_loss: 0.5603 - val_accuracy: 0.9333\n",
            "Epoch 23/25\n",
            "198/198 [==============================] - 14s 70ms/step - loss: 0.0238 - accuracy: 0.9916 - val_loss: 0.5533 - val_accuracy: 0.9333\n",
            "Epoch 24/25\n",
            "198/198 [==============================] - 14s 70ms/step - loss: 0.0698 - accuracy: 0.9747 - val_loss: 0.7794 - val_accuracy: 0.9333\n",
            "Epoch 25/25\n",
            "198/198 [==============================] - 14s 71ms/step - loss: 0.0559 - accuracy: 0.9815 - val_loss: 0.4284 - val_accuracy: 0.9667\n"
          ]
        },
        {
          "data": {
            "text/plain": [
              "<keras.callbacks.History at 0x24d77ccb760>"
            ]
          },
          "execution_count": 13,
          "metadata": {},
          "output_type": "execute_result"
        }
      ],
      "source": [
        "model.fit_generator(x_train,\n",
        "                    steps_per_epoch =594/3,\n",
        "                    epochs=25,\n",
        "                    validation_data=x_test,\n",
        "                    validation_steps=30/3)"
      ]
    },
    {
      "cell_type": "markdown",
      "id": "61bee667",
      "metadata": {
        "id": "61bee667"
      },
      "source": [
        "### Save The Model"
      ]
    },
    {
      "cell_type": "code",
      "execution_count": null,
      "id": "3299bcd1",
      "metadata": {
        "id": "3299bcd1"
      },
      "outputs": [],
      "source": [
        "model.save('gesture.h5')"
      ]
    },
    {
      "cell_type": "code",
      "execution_count": null,
      "id": "2ed772a1",
      "metadata": {
        "id": "2ed772a1"
      },
      "outputs": [],
      "source": [
        "model_json = model.to_json()\n",
        "with open(\"model-bw.json\", \"w\") as json_file:\n",
        "     json_file.write(model_json)"
      ]
    },
    {
      "cell_type": "markdown",
      "id": "4d80dc58",
      "metadata": {
        "id": "4d80dc58"
      },
      "source": [
        "# Model Testing"
      ]
    },
    {
      "cell_type": "code",
      "execution_count": null,
      "id": "17cb7881",
      "metadata": {
        "id": "17cb7881"
      },
      "outputs": [],
      "source": [
        "import numpy as np\n",
        "from tensorflow.keras.models import load_model\n",
        "from tensorflow.keras.preprocessing import image\n",
        "model = load_model(\"gesture.h5\")"
      ]
    },
    {
      "cell_type": "code",
      "execution_count": null,
      "id": "077831b1",
      "metadata": {
        "id": "077831b1",
        "outputId": "68f0eea9-dfac-4451-a6a9-a84a2b542142"
      },
      "outputs": [
        {
          "data": {
            "text/plain": [
              "(64, 64, 1)"
            ]
          },
          "execution_count": 18,
          "metadata": {},
          "output_type": "execute_result"
        }
      ],
      "source": [
        "img = image.load_img(r'D:\\IBM Project\\Dataset\\test\\1\\1.jpg', grayscale=True, target_size=(64,64))\n",
        "x = image.img_to_array(img)\n",
        "x.shape"
      ]
    },
    {
      "cell_type": "code",
      "execution_count": null,
      "id": "3cfaa837",
      "metadata": {
        "id": "3cfaa837",
        "outputId": "4ae1bcd0-c1df-44ad-8a66-fe1559e5bcd1"
      },
      "outputs": [
        {
          "data": {
            "text/plain": [
              "(1, 64, 64, 1)"
            ]
          },
          "execution_count": 19,
          "metadata": {},
          "output_type": "execute_result"
        }
      ],
      "source": [
        "x = np.expand_dims(x,axis=0)\n",
        "x.shape"
      ]
    },
    {
      "cell_type": "code",
      "execution_count": null,
      "id": "e50a8a0e",
      "metadata": {
        "id": "e50a8a0e",
        "outputId": "108e6d7a-4292-4c8e-840e-6e1d46cfef30"
      },
      "outputs": [
        {
          "name": "stdout",
          "output_type": "stream",
          "text": [
            "1/1 [==============================] - 0s 217ms/step\n"
          ]
        },
        {
          "data": {
            "text/plain": [
              "array([1], dtype=int64)"
            ]
          },
          "execution_count": 20,
          "metadata": {},
          "output_type": "execute_result"
        }
      ],
      "source": [
        "pred_x = model.predict(x)\n",
        "pred_x=np.argmax(pred_x,axis=1)\n",
        "pred_x"
      ]
    },
    {
      "cell_type": "code",
      "execution_count": null,
      "id": "004373bc",
      "metadata": {
        "id": "004373bc",
        "outputId": "2f1a6483-116c-4b2c-a63c-ed263d6651e0"
      },
      "outputs": [
        {
          "data": {
            "text/plain": [
              "'1'"
            ]
          },
          "execution_count": 21,
          "metadata": {},
          "output_type": "execute_result"
        }
      ],
      "source": [
        "index=['0', '1', '2', '3', '4', '5']\n",
        "result=str(index[pred_x[0]])\n",
        "result"
      ]
    },
    {
      "cell_type": "code",
      "execution_count": null,
      "id": "51dae7ef",
      "metadata": {
        "id": "51dae7ef",
        "outputId": "5b3df051-dca4-47c5-b1a2-72ff098bd5c5"
      },
      "outputs": [
        {
          "name": "stdout",
          "output_type": "stream",
          "text": [
            "1/1 [==============================] - 0s 59ms/step\n",
            "1/1 [==============================] - 0s 64ms/step\n",
            "1/1 [==============================] - 0s 61ms/step\n",
            "1/1 [==============================] - 0s 54ms/step\n",
            "1/1 [==============================] - 0s 47ms/step\n",
            "1/1 [==============================] - 0s 64ms/step\n",
            "1/1 [==============================] - 0s 83ms/step\n",
            "1/1 [==============================] - 0s 76ms/step\n",
            "1/1 [==============================] - 0s 48ms/step\n",
            "1/1 [==============================] - 0s 62ms/step\n",
            "1/1 [==============================] - 0s 47ms/step\n",
            "1/1 [==============================] - 0s 40ms/step\n",
            "1/1 [==============================] - 0s 57ms/step\n",
            "1/1 [==============================] - 0s 247ms/step\n",
            "1/1 [==============================] - 0s 52ms/step\n",
            "1/1 [==============================] - 0s 88ms/step\n",
            "1/1 [==============================] - 0s 46ms/step\n",
            "1/1 [==============================] - 0s 50ms/step\n",
            "1/1 [==============================] - 0s 95ms/step\n",
            "1/1 [==============================] - 0s 100ms/step\n",
            "1/1 [==============================] - 0s 79ms/step\n",
            "1/1 [==============================] - 0s 110ms/step\n",
            "1/1 [==============================] - 0s 50ms/step\n",
            "1/1 [==============================] - 0s 54ms/step\n",
            "1/1 [==============================] - 0s 50ms/step\n",
            "1/1 [==============================] - 0s 65ms/step\n",
            "1/1 [==============================] - 0s 74ms/step\n",
            "1/1 [==============================] - 0s 83ms/step\n",
            "1/1 [==============================] - 0s 57ms/step\n",
            "1/1 [==============================] - 0s 50ms/step\n",
            "[array([0], dtype=int64), array([0], dtype=int64), array([0], dtype=int64), array([0], dtype=int64), array([0], dtype=int64), array([1], dtype=int64), array([1], dtype=int64), array([1], dtype=int64), array([1], dtype=int64), array([1], dtype=int64), array([2], dtype=int64), array([2], dtype=int64), array([1], dtype=int64), array([2], dtype=int64), array([2], dtype=int64), array([3], dtype=int64), array([3], dtype=int64), array([3], dtype=int64), array([3], dtype=int64), array([3], dtype=int64), array([4], dtype=int64), array([4], dtype=int64), array([4], dtype=int64), array([4], dtype=int64), array([4], dtype=int64), array([5], dtype=int64), array([5], dtype=int64), array([5], dtype=int64), array([5], dtype=int64), array([5], dtype=int64)]\n"
          ]
        }
      ],
      "source": [
        "import numpy as np\n",
        "p=[]\n",
        "for i in range(0,6):\n",
        "  for j in range(0,5):\n",
        "    img = image.load_img(r\"D:\\\\IBM Project\\\\Dataset\\test\\\\\"+str(i)+\"\\\\\"+str(j)+\".jpg\", grayscale=True, target_size=(64,64))\n",
        "    x = image.img_to_array(img)\n",
        "    x = np.expand_dims(x,axis=0)\n",
        "    pred = np.argmax(model.predict(x),axis=-1)\n",
        "    p.append(pred)\n",
        "print(p)"
      ]
    },
    {
      "cell_type": "code",
      "execution_count": null,
      "id": "1d3eb189",
      "metadata": {
        "id": "1d3eb189",
        "outputId": "121f25c2-4bc1-498a-fb68-e987f820e182"
      },
      "outputs": [
        {
          "name": "stdout",
          "output_type": "stream",
          "text": [
            "['0', '0', '0', '0', '0', '1', '1', '1', '1', '1', '2', '2', '1', '2', '2', '3', '3', '3', '3', '3', '4', '4', '4', '4', '4', '5', '5', '5', '5', '5']\n"
          ]
        }
      ],
      "source": [
        "result = []\n",
        "index=['0','1','2','3','4','5']\n",
        "for i in p:\n",
        "  result.append(index[i[0]])\n",
        "print(result)"
      ]
    }
  ],
  "metadata": {
    "kernelspec": {
      "display_name": "Python 3 (ipykernel)",
      "language": "python",
      "name": "python3"
    },
    "language_info": {
      "codemirror_mode": {
        "name": "ipython",
        "version": 3
      },
      "file_extension": ".py",
      "mimetype": "text/x-python",
      "name": "python",
      "nbconvert_exporter": "python",
      "pygments_lexer": "ipython3",
      "version": "3.9.7"
    },
    "colab": {
      "provenance": []
    }
  },
  "nbformat": 4,
  "nbformat_minor": 5
}