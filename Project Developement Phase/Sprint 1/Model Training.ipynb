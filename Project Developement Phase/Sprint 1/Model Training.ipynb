{
 "cells": [
  {
   "cell_type": "markdown",
   "id": "f56460df",
   "metadata": {},
   "source": [
    "## Team ID : PNT2022TMID21957\n",
    "## Project Title : A Gesture-based Tool for Sterile Browsing of Radiology Images."
   ]
  },
  {
   "cell_type": "markdown",
   "id": "9b5381ce",
   "metadata": {},
   "source": [
    "# Model Training"
   ]
  },
  {
   "cell_type": "markdown",
   "id": "27ff1511",
   "metadata": {},
   "source": [
    "### Importing Packages"
   ]
  },
  {
   "cell_type": "code",
   "execution_count": 1,
   "id": "af16b9bd",
   "metadata": {},
   "outputs": [],
   "source": [
    "import numpy as np\n",
    "import tensorflow\n",
    "from tensorflow.keras.models import Sequential\n",
    "from tensorflow.keras import layers\n",
    "from tensorflow.keras.layers import Dense,Flatten, Dropout\n",
    "from tensorflow.keras.layers import Conv2D,MaxPooling2D\n",
    "from keras.preprocessing.image import ImageDataGenerator"
   ]
  },
  {
   "cell_type": "markdown",
   "id": "2bd44fd2",
   "metadata": {},
   "source": [
    "### Image Data Argumentation"
   ]
  },
  {
   "cell_type": "code",
   "execution_count": 2,
   "id": "a9cb06ca",
   "metadata": {},
   "outputs": [],
   "source": [
    "train_datagen = ImageDataGenerator(rescale=1./255, shear_range=0.2, zoom_range=0.2, horizontal_flip=True)\n",
    "test_datagen = ImageDataGenerator(rescale=1./255)"
   ]
  },
  {
   "cell_type": "markdown",
   "id": "9bdfbf3b",
   "metadata": {},
   "source": [
    "### Loading Our Data And Perform Data Argumentation"
   ]
  },
  {
   "cell_type": "code",
   "execution_count": 3,
   "id": "3756f179",
   "metadata": {},
   "outputs": [
    {
     "name": "stdout",
     "output_type": "stream",
     "text": [
      "Found 594 images belonging to 6 classes.\n",
      "Found 30 images belonging to 6 classes.\n"
     ]
    }
   ],
   "source": [
    "x_train = train_datagen.flow_from_directory(r'D:\\IBM Project\\Dataset\\train', target_size=(64, 64), batch_size=3, color_mode='grayscale', class_mode='categorical')\n",
    "x_test = test_datagen.flow_from_directory(r'D:\\IBM Project\\Dataset\\test', target_size=(64, 64), batch_size=3, color_mode='grayscale', class_mode='categorical')"
   ]
  },
  {
   "cell_type": "code",
   "execution_count": 4,
   "id": "82146e3a",
   "metadata": {},
   "outputs": [
    {
     "name": "stdout",
     "output_type": "stream",
     "text": [
      "{'0': 0, '1': 1, '2': 2, '3': 3, '4': 4, '5': 5}\n"
     ]
    }
   ],
   "source": [
    "print(x_train.class_indices)"
   ]
  },
  {
   "cell_type": "markdown",
   "id": "1bc422d0",
   "metadata": {},
   "source": [
    "### Initializing The Model"
   ]
  },
  {
   "cell_type": "code",
   "execution_count": 5,
   "id": "9550f75a",
   "metadata": {},
   "outputs": [],
   "source": [
    "model=Sequential()"
   ]
  },
  {
   "cell_type": "markdown",
   "id": "a9dacffc",
   "metadata": {},
   "source": [
    "### Adding CNN Layers"
   ]
  },
  {
   "cell_type": "code",
   "execution_count": 6,
   "id": "06b4e3d3",
   "metadata": {},
   "outputs": [],
   "source": [
    "model.add(Conv2D(32, (3, 3), input_shape=(64, 64, 1), activation='relu'))\n",
    "model.add(MaxPooling2D(pool_size=(2, 2)))"
   ]
  },
  {
   "cell_type": "code",
   "execution_count": 7,
   "id": "0c4d32de",
   "metadata": {},
   "outputs": [],
   "source": [
    "model.add(Conv2D(32, (3, 3), activation='relu'))\n",
    "model.add(MaxPooling2D(pool_size=(2, 2)))"
   ]
  },
  {
   "cell_type": "code",
   "execution_count": 8,
   "id": "e42cfa54",
   "metadata": {},
   "outputs": [],
   "source": [
    "model.add(Flatten())"
   ]
  },
  {
   "cell_type": "markdown",
   "id": "31041fba",
   "metadata": {},
   "source": [
    "### Adding Dense Layers"
   ]
  },
  {
   "cell_type": "code",
   "execution_count": 9,
   "id": "6560f3cc",
   "metadata": {},
   "outputs": [],
   "source": [
    "model.add(Dense(units=512, activation='relu'))"
   ]
  },
  {
   "cell_type": "code",
   "execution_count": 10,
   "id": "1dba26aa",
   "metadata": {},
   "outputs": [],
   "source": [
    "model.add(Dense(units=6, activation='softmax'))"
   ]
  },
  {
   "cell_type": "code",
   "execution_count": 11,
   "id": "379b5ca7",
   "metadata": {},
   "outputs": [
    {
     "name": "stdout",
     "output_type": "stream",
     "text": [
      "Model: \"sequential\"\n",
      "_________________________________________________________________\n",
      " Layer (type)                Output Shape              Param #   \n",
      "=================================================================\n",
      " conv2d (Conv2D)             (None, 62, 62, 32)        320       \n",
      "                                                                 \n",
      " max_pooling2d (MaxPooling2D  (None, 31, 31, 32)       0         \n",
      " )                                                               \n",
      "                                                                 \n",
      " conv2d_1 (Conv2D)           (None, 29, 29, 32)        9248      \n",
      "                                                                 \n",
      " max_pooling2d_1 (MaxPooling  (None, 14, 14, 32)       0         \n",
      " 2D)                                                             \n",
      "                                                                 \n",
      " flatten (Flatten)           (None, 6272)              0         \n",
      "                                                                 \n",
      " dense (Dense)               (None, 512)               3211776   \n",
      "                                                                 \n",
      " dense_1 (Dense)             (None, 6)                 3078      \n",
      "                                                                 \n",
      "=================================================================\n",
      "Total params: 3,224,422\n",
      "Trainable params: 3,224,422\n",
      "Non-trainable params: 0\n",
      "_________________________________________________________________\n"
     ]
    }
   ],
   "source": [
    "model.summary()"
   ]
  },
  {
   "cell_type": "markdown",
   "id": "f27da782",
   "metadata": {},
   "source": [
    "### Configure The Learning Process"
   ]
  },
  {
   "cell_type": "code",
   "execution_count": 12,
   "id": "2e1d9ade",
   "metadata": {},
   "outputs": [],
   "source": [
    "model.compile(optimizer='adam', loss='categorical_crossentropy', metrics=['accuracy'])"
   ]
  },
  {
   "cell_type": "markdown",
   "id": "c0175b41",
   "metadata": {},
   "source": [
    "### Train The Model"
   ]
  },
  {
   "cell_type": "code",
   "execution_count": 13,
   "id": "0848a94c",
   "metadata": {},
   "outputs": [
    {
     "name": "stderr",
     "output_type": "stream",
     "text": [
      "C:\\Users\\srina\\AppData\\Local\\Temp/ipykernel_14308/1173897450.py:1: UserWarning: `Model.fit_generator` is deprecated and will be removed in a future version. Please use `Model.fit`, which supports generators.\n",
      "  model.fit_generator(x_train,\n"
     ]
    },
    {
     "name": "stdout",
     "output_type": "stream",
     "text": [
      "Epoch 1/25\n",
      "198/198 [==============================] - 28s 109ms/step - loss: 1.2608 - accuracy: 0.4899 - val_loss: 0.5794 - val_accuracy: 0.8000\n",
      "Epoch 2/25\n",
      "198/198 [==============================] - 14s 69ms/step - loss: 0.5808 - accuracy: 0.7660 - val_loss: 0.4157 - val_accuracy: 0.9000\n",
      "Epoch 3/25\n",
      "198/198 [==============================] - 14s 73ms/step - loss: 0.3788 - accuracy: 0.8754 - val_loss: 0.3431 - val_accuracy: 0.8000\n",
      "Epoch 4/25\n",
      "198/198 [==============================] - 15s 74ms/step - loss: 0.2457 - accuracy: 0.9040 - val_loss: 0.1606 - val_accuracy: 0.9667\n",
      "Epoch 5/25\n",
      "198/198 [==============================] - 14s 72ms/step - loss: 0.2123 - accuracy: 0.9125 - val_loss: 0.3265 - val_accuracy: 0.9000\n",
      "Epoch 6/25\n",
      "198/198 [==============================] - 14s 70ms/step - loss: 0.2065 - accuracy: 0.9327 - val_loss: 0.5890 - val_accuracy: 0.8667\n",
      "Epoch 7/25\n",
      "198/198 [==============================] - 13s 67ms/step - loss: 0.1438 - accuracy: 0.9478 - val_loss: 0.3200 - val_accuracy: 0.9333\n",
      "Epoch 8/25\n",
      "198/198 [==============================] - 14s 69ms/step - loss: 0.0961 - accuracy: 0.9562 - val_loss: 0.1361 - val_accuracy: 0.9000\n",
      "Epoch 9/25\n",
      "198/198 [==============================] - 13s 67ms/step - loss: 0.0807 - accuracy: 0.9680 - val_loss: 0.2772 - val_accuracy: 0.9000\n",
      "Epoch 10/25\n",
      "198/198 [==============================] - 13s 68ms/step - loss: 0.0777 - accuracy: 0.9747 - val_loss: 0.4508 - val_accuracy: 0.9000\n",
      "Epoch 11/25\n",
      "198/198 [==============================] - 14s 68ms/step - loss: 0.1077 - accuracy: 0.9562 - val_loss: 0.4763 - val_accuracy: 0.9333\n",
      "Epoch 12/25\n",
      "198/198 [==============================] - 14s 69ms/step - loss: 0.0481 - accuracy: 0.9882 - val_loss: 0.4047 - val_accuracy: 0.9667\n",
      "Epoch 13/25\n",
      "198/198 [==============================] - 14s 71ms/step - loss: 0.0146 - accuracy: 0.9949 - val_loss: 0.4116 - val_accuracy: 0.9333\n",
      "Epoch 14/25\n",
      "198/198 [==============================] - 15s 76ms/step - loss: 0.0443 - accuracy: 0.9899 - val_loss: 0.3979 - val_accuracy: 0.9667\n",
      "Epoch 15/25\n",
      "198/198 [==============================] - 14s 70ms/step - loss: 0.0577 - accuracy: 0.9764 - val_loss: 0.3092 - val_accuracy: 0.9667\n",
      "Epoch 16/25\n",
      "198/198 [==============================] - 14s 71ms/step - loss: 0.0385 - accuracy: 0.9899 - val_loss: 0.5560 - val_accuracy: 0.9333\n",
      "Epoch 17/25\n",
      "198/198 [==============================] - 15s 76ms/step - loss: 0.0170 - accuracy: 0.9949 - val_loss: 0.4920 - val_accuracy: 0.9333\n",
      "Epoch 18/25\n",
      "198/198 [==============================] - 14s 70ms/step - loss: 0.0343 - accuracy: 0.9882 - val_loss: 0.5429 - val_accuracy: 0.9333\n",
      "Epoch 19/25\n",
      "198/198 [==============================] - 14s 72ms/step - loss: 0.0171 - accuracy: 0.9983 - val_loss: 0.3303 - val_accuracy: 0.9667\n",
      "Epoch 20/25\n",
      "198/198 [==============================] - 15s 73ms/step - loss: 0.0126 - accuracy: 0.9949 - val_loss: 0.2807 - val_accuracy: 0.9333\n",
      "Epoch 21/25\n",
      "198/198 [==============================] - 14s 70ms/step - loss: 0.0509 - accuracy: 0.9865 - val_loss: 0.6154 - val_accuracy: 0.9000\n",
      "Epoch 22/25\n",
      "198/198 [==============================] - 14s 71ms/step - loss: 0.0617 - accuracy: 0.9848 - val_loss: 0.5603 - val_accuracy: 0.9333\n",
      "Epoch 23/25\n",
      "198/198 [==============================] - 14s 70ms/step - loss: 0.0238 - accuracy: 0.9916 - val_loss: 0.5533 - val_accuracy: 0.9333\n",
      "Epoch 24/25\n",
      "198/198 [==============================] - 14s 70ms/step - loss: 0.0698 - accuracy: 0.9747 - val_loss: 0.7794 - val_accuracy: 0.9333\n",
      "Epoch 25/25\n",
      "198/198 [==============================] - 14s 71ms/step - loss: 0.0559 - accuracy: 0.9815 - val_loss: 0.4284 - val_accuracy: 0.9667\n"
     ]
    },
    {
     "data": {
      "text/plain": [
       "<keras.callbacks.History at 0x24d77ccb760>"
      ]
     },
     "execution_count": 13,
     "metadata": {},
     "output_type": "execute_result"
    }
   ],
   "source": [
    "model.fit_generator(x_train,\n",
    "                    steps_per_epoch =594/3,\n",
    "                    epochs=25,\n",
    "                    validation_data=x_test,\n",
    "                    validation_steps=30/3)"
   ]
  },
  {
   "cell_type": "markdown",
   "id": "8b051686",
   "metadata": {},
   "source": [
    "### Save The Model"
   ]
  },
  {
   "cell_type": "code",
   "execution_count": 14,
   "id": "0351d262",
   "metadata": {},
   "outputs": [],
   "source": [
    "model.save('gesture.h5')"
   ]
  },
  {
   "cell_type": "code",
   "execution_count": 15,
   "id": "a33d9abe",
   "metadata": {},
   "outputs": [],
   "source": [
    "model_json = model.to_json()\n",
    "with open(\"model-bw.json\", \"w\") as json_file:\n",
    "     json_file.write(model_json)"
   ]
  }
 ],
 "metadata": {
  "kernelspec": {
   "display_name": "Python 3 (ipykernel)",
   "language": "python",
   "name": "python3"
  },
  "language_info": {
   "codemirror_mode": {
    "name": "ipython",
    "version": 3
   },
   "file_extension": ".py",
   "mimetype": "text/x-python",
   "name": "python",
   "nbconvert_exporter": "python",
   "pygments_lexer": "ipython3",
   "version": "3.9.7"
  }
 },
 "nbformat": 4,
 "nbformat_minor": 5
}
